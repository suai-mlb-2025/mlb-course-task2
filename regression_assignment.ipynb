{
 "cells": [
  {
   "cell_type": "markdown",
   "metadata": {
    "colab_type": "text",
    "id": "s-RzEZEBR10z"
   },
   "source": [
    "# Основы машинного обучения: лабораторная работа №2\n",
    "## <!--Задание 1. -->Регрессионный анализ\n",
    "\n",
    "В этом задании необходимо реализовать обучающиеся модели в контексте решения задачи регрессии на одном из представленных по варианту задания наборе данных. \n",
    "\n",
    "### Цель\n",
    "\n",
    "Получение навыков решения задачи регрессионного анализа и оптимизации функций методом градиентного спуска\n",
    "\n",
    "### Оценивание и баллы\n",
    "\n",
    "За это задание в общей сложности можно получить до 10 баллов. Задание частично проверяется автоматически, а частично будет оцениваться вручную. Чтобы получить максимальный балл,  необходимо успешно выполнить все приведенные ниже задачи.\n"
   ]
  },
  {
   "cell_type": "markdown",
   "metadata": {},
   "source": [
    "***\n",
    "#### Задачи\n",
    "\n",
    "#### 1. Определить номер варианта\n",
    "Перейдите по ссылке из личного кабинета на Google Таблицу со списком студентов. Найдите свое ФИО в списке и запомните соответствующий порядковый номер (поле № п/п) в первом столбце. Заполните его в ячейке ниже и выполните ячейку. Если вы не можете найти себя в списке, обратитесь к своему преподавателю."
   ]
  },
  {
   "cell_type": "code",
   "execution_count": 24,
   "metadata": {},
   "outputs": [],
   "source": [
    "### BEGIN YOUR CODE\n",
    "\n",
    "Student_ID = None\n",
    "\n",
    "### END YOUR CODE"
   ]
  },
  {
   "cell_type": "markdown",
   "metadata": {},
   "source": [
    "Теперь выполните следующую ячейку. Она вычислит номер задания и выведет его."
   ]
  },
  {
   "cell_type": "code",
   "execution_count": 25,
   "metadata": {},
   "outputs": [
    {
     "name": "stdout",
     "output_type": "stream",
     "text": [
      "ОШИБКА! Не указан порядковый номер студента в списке группы.\n"
     ]
    }
   ],
   "source": [
    "datasets = [('Diabetes dataset','https://scikit-learn.org/stable/modules/generated/sklearn.datasets.load_diabetes.html#sklearn.datasets.load_diabetes'), ('California Housing','https://scikit-learn.org/stable/modules/generated/sklearn.datasets.fetch_california_housing.html#fetch-california-housing'), ('Auto MPG', 'https://archive.ics.uci.edu/dataset/9/auto+mpg'), ('Forest Fires', 'https://archive.ics.uci.edu/dataset/162/forest+fires'), ('Concrete Compressive Strength', 'https://archive.ics.uci.edu/dataset/165/concrete+compressive+strength')]\n",
    "\n",
    "dataset_id = None if Student_ID is None else Student_ID % len(datasets)\n",
    "if dataset_id is None:\n",
    "    print(\"ОШИБКА! Не указан порядковый номер студента в списке группы.\")\n",
    "else:\n",
    "    print(f\"Информация о датасете '{datasets[dataset_id][0]}' доступна по следующей ссылке: {datasets[dataset_id][1]}\")"
   ]
  },
  {
   "cell_type": "markdown",
   "metadata": {},
   "source": [
    "#### 2. Подготовить среду разработки и данные\n",
    "Добавьте импорт всех необходимых библиотек в ячейке ниже. Постарайтесь не импортировать библиотеки в других ячейках, чтобы избежать ошибок в коде"
   ]
  },
  {
   "cell_type": "code",
   "execution_count": 2,
   "metadata": {},
   "outputs": [],
   "source": [
    "### BEGIN YOUR CODE\n",
    "\n",
    "import pandas as pd\n",
    "\n",
    "### END YOUR CODE"
   ]
  },
  {
   "cell_type": "markdown",
   "metadata": {},
   "source": [
    "При необходимости скачайте датасет с помощью команды `!wget ...` и разархивируйте его. Загрузите датасет в переменную `dataset`, с которой будете дальше работать"
   ]
  },
  {
   "cell_type": "code",
   "execution_count": null,
   "metadata": {},
   "outputs": [],
   "source": [
    "### BEGIN YOUR CODE\n",
    "\n",
    "# !wget PLACE_DATASET_URL_HERE\n",
    "\n",
    "# !unzip ...\n",
    "# !tar ...\n",
    "# !gunzip ...\n",
    "\n",
    "# dataset = pd.read_csv\n",
    "\n",
    "### END YOUR CODE"
   ]
  },
  {
   "cell_type": "markdown",
   "metadata": {
    "colab_type": "text",
    "id": "l0lLa-xiR101"
   },
   "source": [
    "####  3. Посмотреть на общую картину (1 балл)\n",
    "Ознакомьтесь с информацией о датасете по ссылке из задания и **напишите один абзац текста с описанием решаемой задачи**. В частности, ответьте в своем тексте на следующие вопросы:\n",
    "\n",
    " * Каков размер датасета? (в Мб)\n",
    " * Сколько в нем записей (объектов)?\n",
    " * Сколько признаков (фич) у объектов в датасете?\n",
    " * Есть ли категориальные данные? Какие?\n",
    " * Есть ли пропущенные значения?\n",
    " * Есть ли в датасете столбец с ответами (target)? Какой у него тип данных?\n",
    " * Какую задачу может решать регрессионная модель, построенная на этом датасете? Какую величину она будет предсказывать?\n",
    " * Приведите основные статистические данные о датасете, которые можно получить вызовом одной-двух функций в pandas. Какие выводы о датасете можно сделать?\n",
    "\n",
    "В ячейке ниже напишите код, который выводит всю необходимую информацию, а в ячейке под ней (ее тип - Markdown, т.е. текст) опишите своими словами решаемую задачу и используемый набор данных."
   ]
  },
  {
   "cell_type": "code",
   "execution_count": null,
   "metadata": {
    "colab": {
     "base_uri": "https://localhost:8080/",
     "height": 603
    },
    "colab_type": "code",
    "id": "ujitZUYeR101",
    "outputId": "51f738e5-335a-4cd8-d485-da73eaf6156d"
   },
   "outputs": [],
   "source": [
    "### BEGIN YOUR CODE\n",
    "\n",
    "dataset.describe()\n",
    "\n",
    "### END YOUR CODE"
   ]
  },
  {
   "cell_type": "markdown",
   "metadata": {
    "colab_type": "text",
    "id": "FGsJ_-hMXjSs"
   },
   "source": [
    "**Здесь должен быть ваш текст**\n",
    "<!-- Размер датасета составляет 100500 килобайт, что соответствует 100,5 мегабайтам. В датасете содержится описание ... -->"
   ]
  },
  {
   "cell_type": "markdown",
   "metadata": {
    "colab_type": "text",
    "id": "Xfw6nVzoR104"
   },
   "source": [
    "---\n",
    "#### 4. Анализ данных, очистка, и масштабирование (2 балла)\n",
    "\n",
    "**Анализ данных:** проверьте наличие корреляции между признаками. Некоторые из них могут оказаться более коррелированными с объясняемой переменной (target), чем остальные. Эта информация в дальнейшем поможет провалидировать найденные коэффициенты регрессионной модели. \n",
    "\n",
    "**Очистка данных:** если датасет содержит пропущенные значения, заполните их с помощью модуля [`sklearn.impute`](https://scikit-learn.org/stable/modules/impute.html). Если в датасете есть категориальные признаки, [преобразуйте их в числовые](https://scikit-learn.org/stable/modules/preprocessing.html#preprocessing-categorical-features) с помощью `OneHotEncoder`. \n",
    "\n",
    "**Масштабирование признаков.** Напишите код, осуществляющий нормализацию значений всех признаков [следующим образом](https://scikit-learn.org/stable/modules/preprocessing.html#standardization-or-mean-removal-and-variance-scaling): \n",
    "\n",
    "- вычесть среднее значение соответствующего признака из всех значений этого признака;\n",
    "- отмасштабировать (поделить) значения признаков на СКО этих признаков.\n",
    "\n",
    "**Особенности реализации:** напишите код, который реализует последовательность (пайплайн) обработки обучающих данных, а затем примените его к валидационной и тестовой выборкам в случае их наличия."
   ]
  },
  {
   "cell_type": "code",
   "execution_count": null,
   "metadata": {
    "colab": {
     "base_uri": "https://localhost:8080/",
     "height": 185
    },
    "colab_type": "code",
    "id": "KI2IIJdHR104",
    "outputId": "cb18b5ed-55f9-4091-b424-a84568b619c8"
   },
   "outputs": [],
   "source": [
    "### BEGIN YOUR CODE\n",
    "\n",
    "# рекомендуется разбить выборку на обучающую и тестовую, например, с помощью StratifiedShuffleSplit из sklearn.model_selection\n",
    "\n",
    "# при необходимости добавьте дополнительные ячейки с кодом, чтобы разбить код на смысловые блоки и повысить его читабельность\n",
    "\n",
    "### END YOUR CODE"
   ]
  },
  {
   "cell_type": "markdown",
   "metadata": {
    "colab_type": "text",
    "id": "JRW5HPBzR106"
   },
   "source": [
    "- - -\n",
    "#### 5. Реализовать градиентный спуск (3 балла)\n",
    "Используйте описание метода градиентного спуска, которое было приведено на лекции. Не забудьте добавить в матрицу признаков обучающей выборки столбец $\\textbf{x}_0$, заполненный единицами. Напишите код, реализующий класс **LinearRegressionModel** и объявленные в нем методы. \n",
    "\n",
    "**Градиентный спуск:** ЗАПРЕЩАЕТСЯ вызывать какие-либо библиотечные функции и использовать иной готовый код для построения модели линейной регрессии и поиска ее параметров. Можно использовать только базовые математические операции из пакета numpy, например, скалярное произведение и матричное умножение. Проследите, чтобы код для обучения модели был полностью векторизован."
   ]
  },
  {
   "cell_type": "code",
   "execution_count": 28,
   "metadata": {
    "colab": {
     "base_uri": "https://localhost:8080/",
     "height": 34
    },
    "colab_type": "code",
    "id": "XOhAxyK1R107",
    "outputId": "a405db08-56d2-4dc5-8d15-7af4dc864191"
   },
   "outputs": [
    {
     "name": "stdout",
     "output_type": "stream",
     "text": [
      "Вектор параметров: None\n"
     ]
    }
   ],
   "source": [
    "# Внимание: нельзя использовать библиотечный код для реализации линейной регрессии, напишите свой!\n",
    "# Не забудьте поменять значения self.attribute = 0 на более подходящие или (лучше) задать их перед началом обучения\n",
    "\n",
    "class LinearRegressionModel:    \n",
    "    \"\"\"\n",
    "    Перечень действий, которые можно выполнить с моделью\n",
    "    \"\"\"\n",
    "    \n",
    "    def __init__ (self):\n",
    "        \"\"\"\n",
    "        Инициализация модели\n",
    "        \"\"\"\n",
    "        self.theta = None # вектор параметров модели\n",
    "        self.alpha = 0.0  # скорость обучения\n",
    "        self.cost  = 0    # значение функционала качества обученной модели (значение функции стоимости)\n",
    "\n",
    "    def gradient_descent(self, X_train, y_train, theta, alpha, iters):\n",
    "        \"\"\"\n",
    "        Реализация градиентного спуска\n",
    "        Входные данные:\n",
    "        alpha: скорость обучения\n",
    "        iters: количество итераций\n",
    "        \n",
    "        Выходные данные: \n",
    "        theta: обновлённое значение вектора параметров\n",
    "        cost: итоговое значение функции стоимости\n",
    "        \"\"\"\n",
    "        # поместите сюда ваш код\n",
    "        return self.theta, self.cost\n",
    "\n",
    "    def fit_with_GD(self, X_train, y_train, iters=200):\n",
    "        \"\"\"\n",
    "        Обучение модели методом градиентного спуска\n",
    "        \"\"\"\n",
    "        # поместите сюда ваш код для инициализации алгоритма подбора параметров методом градиентного спуска\n",
    "        self.theta, self.cost = self.gradient_descent(X_b, y_train, self.theta, self.alpha, iters)\n",
    "        return self.cost\n",
    "\n",
    "    def fit_with_normal_equations(self, X_train, y_train):\n",
    "        \"\"\"\n",
    "        Обучение с помощью решения системы нормальных уравнений (МНК)\n",
    "        \"\"\"\n",
    "        #  поместите сюда ваш код для задания 5\n",
    "        return self.cost\n",
    "\n",
    "    def predict(self, X_test):\n",
    "        \"\"\"\n",
    "        Предсказание значения с помощью обученной модели\n",
    "        \"\"\"\n",
    "        # поместите сюда ваш код \n",
    "        y_predict = None\n",
    "        return y_predict\n",
    "\n",
    "    def __str__(self):\n",
    "        \"\"\"\n",
    "        Вывод всех параметров модели при вызове функции print()\n",
    "        \"\"\"\n",
    "        return f\"Вектор параметров: {self.theta}\"\n",
    "\n",
    "\n",
    "\n",
    "my_model = LinearRegressionModel()\n",
    "# поместите сюда ваш код для вызова экземпляра класса LinearRegressionModel\n",
    "\n",
    "print(my_model)"
   ]
  },
  {
   "cell_type": "markdown",
   "metadata": {
    "colab_type": "text",
    "id": "9mbKbih2R109"
   },
   "source": [
    "* **Скорость обучения:** попробуйте использовать разные скорости обучения и подберите такое значение, которое обеспечивает быструю сходимость. При выборе скорости обучения нужно следить за графиком функции качества (стоимости), построенном относительно количества итераций работы алгоритма градиентного спуска. Значение функционала качества $Q(\\theta)$ должно быстро убывать и стремиться к небольшому значению. Такое поведение также является свидетельством того, что алгоритм работает корректно. Если скорость обучения слишком большая, значение функционала качества $Q(\\theta)$ может начать колебаться и расти. По графику, который должен строить код в ячейке ниже, необходимо выбрать наиболее подходящую скорость обучения из числа проанализированных, и обосновать свой выбор. Без этого объяснения баллы за данную задачу начислены не будут."
   ]
  },
  {
   "cell_type": "code",
   "execution_count": 34,
   "metadata": {
    "colab": {
     "base_uri": "https://localhost:8080/",
     "height": 910
    },
    "colab_type": "code",
    "id": "sBdljd94R109",
    "outputId": "d6c84435-6531-4bb0-defe-15d3205c3236"
   },
   "outputs": [
    {
     "data": {
      "text/plain": [
       "Text(0.5, 1.0, 'Error vs. Training Iterations')"
      ]
     },
     "execution_count": 34,
     "metadata": {
      "tags": []
     },
     "output_type": "execute_result"
    },
    {
     "data": {
      "image/png": "[encoded data removed]",
      "text/plain": [
       "<Figure size 1440x1080 with 1 Axes>"
      ]
     },
     "metadata": {
      "tags": []
     },
     "output_type": "display_data"
    }
   ],
   "source": [
    "# Используйте следующий код, чтобы построить график скорости обучения.\n",
    "# Для построения графика функции качества необходимо заполнить списки iters и costs\n",
    "# Можно построить несколько кривых на одном графике, соответствующих разным скоростям обучения, чтобы выбрать наилучшую\n",
    "#\n",
    "\n",
    "plt.figure(figsize=(20, 15))\n",
    "# поместите сюда ваш код \n",
    "iters = []\n",
    "\n",
    "for i in range(0, 90, 10): # <- эти параметры имеет смысл подобрать самостоятельно\n",
    "    my_model.alpha = i / 100\n",
    "    costs = []\n",
    "    for j in iters:\n",
    "        costs.append(my_model.fit_with_GD(X_train, y_train, j))\n",
    "    plt.plot(iters, costs)\n",
    "    \n",
    "\n",
    "# не забудьте про легенду\n",
    "plt.xlabel('Количество итераций')  \n",
    "plt.ylabel(r'Функция качества $Q(\\theta)$')  \n",
    "plt.title('Зависимость суммарной ошибки на обучающей выборке от количества итераций')  \n"
   ]
  },
  {
   "cell_type": "markdown",
   "metadata": {
    "colab_type": "text",
    "id": "zlYeKIwfG2Lk"
   },
   "source": [
    "*Здесь можно написать свои комментарии по поводу графика и выбора наиболее подходящей скорости обучения*"
   ]
  },
  {
   "cell_type": "markdown",
   "metadata": {
    "colab_type": "text",
    "id": "_OSBr-iNR10_"
   },
   "source": [
    "- - -\n",
    "#### 5. Решить систему нормальных уравнений (метод наименьших квадратов) (1 балл)"
   ]
  },
  {
   "cell_type": "markdown",
   "metadata": {
    "colab_type": "text",
    "id": "8Pnn0NEhR10_"
   },
   "source": [
    "Как было показано на лекциях, решить задачу построения модели линейной регрессии можно в явном виде с помощью системы нормальных уравнений. Использование формулы для решения системы нормальных уравнений матричным способом не требует нормирования признаков, подбора гиперпараметров и может быть легко реализовано в коде: \n",
    "\n",
    "$\n",
    "    \\mathbf{\\theta} = ({\\mathbf{X}^{T}\\mathbf{X}})^{-1}\\mathbf{X}^{T}\\mathbf{y}.\n",
    "$\n",
    "\n",
    "Обратите внимание, что здесь так же нужно добавить столбец из единиц в матрицу $\\mathbf{X}$, чтобы найти свободный член (смещение)."
   ]
  },
  {
   "cell_type": "code",
   "execution_count": null,
   "metadata": {
    "colab": {
     "base_uri": "https://localhost:8080/",
     "height": 34
    },
    "colab_type": "code",
    "id": "X4t5jNtbR11B",
    "outputId": "593088dd-25ef-45c0-fdf5-aa9e5831899c"
   },
   "outputs": [],
   "source": [
    "# Реализуйте метод fit_with_normal_equations класса LinearRegressionModel перед тем, \n",
    "# как выполнить приведенный ниже код\n",
    "\n",
    "my_normal_equations_model = LinearRegressionModel()\n",
    "cost = my_normal_equations_model.fit_with_normal_equations(X_train, y_train)\n",
    "\n",
    "print(cost)\n",
    "print(my_normal_equations_model)"
   ]
  },
  {
   "cell_type": "markdown",
   "metadata": {
    "colab_type": "text",
    "id": "m5el9T4eR11D"
   },
   "source": [
    "- - -\n",
    "#### 6. Сравнить разные методы (2 балла)"
   ]
  },
  {
   "cell_type": "markdown",
   "metadata": {
    "colab_type": "text",
    "id": "ScvMKU-zR11D"
   },
   "source": [
    "Оцените и сравните решения задачи построения уравнения линейной регрессии методом градиентного спуска и методом решения системы нормальных уравнений (методом наименьших квадратов). В теории они должны быть одинаковыми или хотя бы схожими. Для более полной оценки следует воспользоваться встроенной в библиотеку `sklearn` реализацией [алгоритма **Stochastic Gradient Descent (SGD)**](https://scikit-learn.org/stable/modules/generated/sklearn.linear_model.SGDRegressor.html) в качестве третьего метода для сравнения. Для каждого метода (и полученной с его помощью модели) необходимо вычислить RMSE на **тестовой выборке** как меру производительности. Вы можете использовать готовые функции из библиотеки для вычисления, как показано ниже, вместо того чтобы писать собственный код:\n",
    "\n",
    "- Какой из методов является наиболее производительным на заданном по варианту датасете?\n",
    "- Как вы оцениваете ошибку каждой из построенных моделей? Приемлемо? Средне? Плохо?\n",
    "\n",
    "+1 дополнительный балл за добавление к сравнению еще двух методов: встроенной реализации метода наименьших квадратов ([`LinearRegression`](https://scikit-learn.org/stable/modules/generated/sklearn.linear_model.LinearRegression.html)) и гребневой регрессии (метод регуляризации Тихонова, [`Ridge`](https://scikit-learn.org/1.5/modules/generated/sklearn.linear_model.Ridge.html))."
   ]
  },
  {
   "cell_type": "code",
   "execution_count": null,
   "metadata": {
    "colab": {
     "base_uri": "https://localhost:8080/",
     "height": 67
    },
    "colab_type": "code",
    "id": "wtvlmtyCR11E",
    "outputId": "ed95529b-6cfd-45bc-c757-4c7c1d4c19b6"
   },
   "outputs": [],
   "source": [
    "from sklearn.metrics import mean_squared_error\n",
    "\n",
    "# Использование встроенной реализации метода стохастического градиентного спуска для построения модели\n",
    "from sklearn.linear_model import SGDRegressor\n",
    "my_sgd_model = SGDRegressor()\n",
    "my_sgd_model.fit(X_train, y_train)\n",
    "y_predict = my_sgd_model.predict(X_test)\n",
    "mse = mean_squared_error(y_test, y_predict)\n",
    "my_sgd_model_rmse = np.sqrt(mse)\n",
    "print(\"SGD:\", my_sgd_model_rmse)\n",
    "\n",
    "# поместите сюда ваш код "
   ]
  },
  {
   "cell_type": "markdown",
   "metadata": {
    "colab_type": "text",
    "id": "dUGjMaH8JXeA"
   },
   "source": [
    "*Здесь можно написать свои комментарии по поводу эффективности рассмотренных методов и качества их реализации*"
   ]
  },
  {
   "cell_type": "markdown",
   "metadata": {
    "colab_type": "text",
    "id": "vmaBPxD_R11G"
   },
   "source": [
    "- - -\n",
    "#### 7. Опишите полученные результаты (1 балл)"
   ]
  },
  {
   "cell_type": "markdown",
   "metadata": {
    "colab_type": "text",
    "id": "zI7TNvZsR11H"
   },
   "source": [
    "Напишите краткие выводы объемом в один абзац, ориентированные на нетехническую аудиторию (например, на вашего менеджера или начальника). Сосредоточьтесь на следующих вопросах:\n",
    "\n",
    "- Как вы можете эффектно и эффективно представить ваше решение для проблемы прогнозирования целевой переменной из вашего датасета?\n",
    "- Что вы узнали о проблеме на данный момент?\n",
    "- Как можно улучшить ваше решение?"
   ]
  },
  {
   "cell_type": "markdown",
   "metadata": {
    "colab_type": "text",
    "id": "CtMU8QhXPFK8"
   },
   "source": [
    "*Поместите сюда свой текст*"
   ]
  },
  {
   "cell_type": "markdown",
   "metadata": {
    "colab_type": "text",
    "id": "I1vTd45lR11J"
   },
   "source": [
    "- - - \n",
    "### Нужна помощь?"
   ]
  },
  {
   "cell_type": "markdown",
   "metadata": {
    "colab_type": "text",
    "id": "ionUS2eLR11K"
   },
   "source": [
    "Если у вас возникли трудности при выполнении задания, попробуйте следующие решения:\n",
    "\n",
    "- Посмотрите слайды к презентации по регрессионному анализу и методам наименьших квадратов, градиентного спуска и стохастического градиентного спуска. Слайды можно найти в личном кабинете или в ТГ-канале курса.\n",
    "- Задайте вопрос преподавателю в ТГ-канале курса.\n",
    "- Задайте вопрос преподавателю лично в университете."
   ]
  }
 ],
 "metadata": {
  "colab": {
   "collapsed_sections": [],
   "name": "xl9yr_Assignment 1.ipynb",
   "provenance": []
  },
  "kernelspec": {
   "display_name": "Python 3 (ipykernel)",
   "language": "python",
   "name": "python3"
  },
  "language_info": {
   "codemirror_mode": {
    "name": "ipython",
    "version": 3
   },
   "file_extension": ".py",
   "mimetype": "text/x-python",
   "name": "python",
   "nbconvert_exporter": "python",
   "pygments_lexer": "ipython3",
   "version": "3.12.7"
  }
 },
 "nbformat": 4,
 "nbformat_minor": 4
}
